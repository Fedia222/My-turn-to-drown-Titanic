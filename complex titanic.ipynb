{
 "cells": [
  {
   "cell_type": "code",
   "execution_count": 29,
   "id": "7800e447",
   "metadata": {
    "_cell_guid": "b1076dfc-b9ad-4769-8c92-a6c4dae69d19",
    "_uuid": "8f2839f25d086af736a60e9eeb907d3b93b6e0e5",
    "execution": {
     "iopub.execute_input": "2025-09-01T10:20:09.503972Z",
     "iopub.status.busy": "2025-09-01T10:20:09.503632Z",
     "iopub.status.idle": "2025-09-01T10:20:11.515630Z",
     "shell.execute_reply": "2025-09-01T10:20:11.514406Z"
    },
    "papermill": {
     "duration": 2.017775,
     "end_time": "2025-09-01T10:20:11.517335",
     "exception": false,
     "start_time": "2025-09-01T10:20:09.499560",
     "status": "completed"
    },
    "tags": []
   },
   "outputs": [],
   "source": [
    "# This Python 3 environment comes with many helpful analytics libraries installed\n",
    "# It is defined by the kaggle/python Docker image: https://github.com/kaggle/docker-python\n",
    "# For example, here's several helpful packages to load\n",
    "\n",
    "import numpy as np # linear algebra\n",
    "import pandas as pd # data processing, CSV file I/O (e.g. pd.read_csv)\n",
    "\n",
    "# Input data files are available in the read-only \"../input/\" directory\n",
    "# For example, running this (by clicking run or pressing Shift+Enter) will list all files under the input directory\n",
    "\n",
    "import os\n",
    "for dirname, _, filenames in os.walk('/kaggle/input'):\n",
    "    for filename in filenames:\n",
    "        print(os.path.join(dirname, filename))\n",
    "\n",
    "# You can write up to 20GB to the current directory (/kaggle/working/) that gets preserved as output when you create a version using \"Save & Run All\" \n",
    "# You can also write temporary files to /kaggle/temp/, but they won't be saved outside of the current session"
   ]
  },
  {
   "cell_type": "code",
   "execution_count": 30,
   "id": "44936e02",
   "metadata": {
    "execution": {
     "iopub.execute_input": "2025-09-01T10:20:11.523619Z",
     "iopub.status.busy": "2025-09-01T10:20:11.523227Z",
     "iopub.status.idle": "2025-09-01T10:20:11.555762Z",
     "shell.execute_reply": "2025-09-01T10:20:11.554712Z"
    },
    "papermill": {
     "duration": 0.037958,
     "end_time": "2025-09-01T10:20:11.558053",
     "exception": false,
     "start_time": "2025-09-01T10:20:11.520095",
     "status": "completed"
    },
    "tags": []
   },
   "outputs": [
    {
     "data": {
      "text/plain": [
       "['PassengerId',\n",
       " 'Survived',\n",
       " 'Pclass',\n",
       " 'Name',\n",
       " 'Sex',\n",
       " 'Age',\n",
       " 'SibSp',\n",
       " 'Parch',\n",
       " 'Ticket',\n",
       " 'Fare',\n",
       " 'Cabin',\n",
       " 'Embarked']"
      ]
     },
     "execution_count": 30,
     "metadata": {},
     "output_type": "execute_result"
    }
   ],
   "source": [
    "train_data = pd.read_csv('train.csv')\n",
    "#train_data.head()\n",
    "\n",
    "train_data.columns\n",
    "train_data.columns.tolist()"
   ]
  },
  {
   "cell_type": "code",
   "execution_count": 31,
   "id": "88d58fc3",
   "metadata": {
    "execution": {
     "iopub.execute_input": "2025-09-01T10:20:11.564573Z",
     "iopub.status.busy": "2025-09-01T10:20:11.564283Z",
     "iopub.status.idle": "2025-09-01T10:20:11.597930Z",
     "shell.execute_reply": "2025-09-01T10:20:11.597051Z"
    },
    "papermill": {
     "duration": 0.03918,
     "end_time": "2025-09-01T10:20:11.599945",
     "exception": false,
     "start_time": "2025-09-01T10:20:11.560765",
     "status": "completed"
    },
    "tags": []
   },
   "outputs": [
    {
     "data": {
      "text/html": [
       "<div>\n",
       "<style scoped>\n",
       "    .dataframe tbody tr th:only-of-type {\n",
       "        vertical-align: middle;\n",
       "    }\n",
       "\n",
       "    .dataframe tbody tr th {\n",
       "        vertical-align: top;\n",
       "    }\n",
       "\n",
       "    .dataframe thead th {\n",
       "        text-align: right;\n",
       "    }\n",
       "</style>\n",
       "<table border=\"1\" class=\"dataframe\">\n",
       "  <thead>\n",
       "    <tr style=\"text-align: right;\">\n",
       "      <th></th>\n",
       "      <th>PassengerId</th>\n",
       "      <th>Pclass</th>\n",
       "      <th>Name</th>\n",
       "      <th>Sex</th>\n",
       "      <th>Age</th>\n",
       "      <th>SibSp</th>\n",
       "      <th>Parch</th>\n",
       "      <th>Ticket</th>\n",
       "      <th>Fare</th>\n",
       "      <th>Cabin</th>\n",
       "      <th>Embarked</th>\n",
       "    </tr>\n",
       "  </thead>\n",
       "  <tbody>\n",
       "    <tr>\n",
       "      <th>0</th>\n",
       "      <td>892</td>\n",
       "      <td>3</td>\n",
       "      <td>Kelly, Mr. James</td>\n",
       "      <td>male</td>\n",
       "      <td>34.5</td>\n",
       "      <td>0</td>\n",
       "      <td>0</td>\n",
       "      <td>330911</td>\n",
       "      <td>7.8292</td>\n",
       "      <td>NaN</td>\n",
       "      <td>Q</td>\n",
       "    </tr>\n",
       "    <tr>\n",
       "      <th>1</th>\n",
       "      <td>893</td>\n",
       "      <td>3</td>\n",
       "      <td>Wilkes, Mrs. James (Ellen Needs)</td>\n",
       "      <td>female</td>\n",
       "      <td>47.0</td>\n",
       "      <td>1</td>\n",
       "      <td>0</td>\n",
       "      <td>363272</td>\n",
       "      <td>7.0000</td>\n",
       "      <td>NaN</td>\n",
       "      <td>S</td>\n",
       "    </tr>\n",
       "    <tr>\n",
       "      <th>2</th>\n",
       "      <td>894</td>\n",
       "      <td>2</td>\n",
       "      <td>Myles, Mr. Thomas Francis</td>\n",
       "      <td>male</td>\n",
       "      <td>62.0</td>\n",
       "      <td>0</td>\n",
       "      <td>0</td>\n",
       "      <td>240276</td>\n",
       "      <td>9.6875</td>\n",
       "      <td>NaN</td>\n",
       "      <td>Q</td>\n",
       "    </tr>\n",
       "    <tr>\n",
       "      <th>3</th>\n",
       "      <td>895</td>\n",
       "      <td>3</td>\n",
       "      <td>Wirz, Mr. Albert</td>\n",
       "      <td>male</td>\n",
       "      <td>27.0</td>\n",
       "      <td>0</td>\n",
       "      <td>0</td>\n",
       "      <td>315154</td>\n",
       "      <td>8.6625</td>\n",
       "      <td>NaN</td>\n",
       "      <td>S</td>\n",
       "    </tr>\n",
       "    <tr>\n",
       "      <th>4</th>\n",
       "      <td>896</td>\n",
       "      <td>3</td>\n",
       "      <td>Hirvonen, Mrs. Alexander (Helga E Lindqvist)</td>\n",
       "      <td>female</td>\n",
       "      <td>22.0</td>\n",
       "      <td>1</td>\n",
       "      <td>1</td>\n",
       "      <td>3101298</td>\n",
       "      <td>12.2875</td>\n",
       "      <td>NaN</td>\n",
       "      <td>S</td>\n",
       "    </tr>\n",
       "  </tbody>\n",
       "</table>\n",
       "</div>"
      ],
      "text/plain": [
       "   PassengerId  Pclass                                          Name     Sex  \\\n",
       "0          892       3                              Kelly, Mr. James    male   \n",
       "1          893       3              Wilkes, Mrs. James (Ellen Needs)  female   \n",
       "2          894       2                     Myles, Mr. Thomas Francis    male   \n",
       "3          895       3                              Wirz, Mr. Albert    male   \n",
       "4          896       3  Hirvonen, Mrs. Alexander (Helga E Lindqvist)  female   \n",
       "\n",
       "    Age  SibSp  Parch   Ticket     Fare Cabin Embarked  \n",
       "0  34.5      0      0   330911   7.8292   NaN        Q  \n",
       "1  47.0      1      0   363272   7.0000   NaN        S  \n",
       "2  62.0      0      0   240276   9.6875   NaN        Q  \n",
       "3  27.0      0      0   315154   8.6625   NaN        S  \n",
       "4  22.0      1      1  3101298  12.2875   NaN        S  "
      ]
     },
     "execution_count": 31,
     "metadata": {},
     "output_type": "execute_result"
    }
   ],
   "source": [
    "test_data = pd.read_csv('test.csv')\n",
    "test_data.head()"
   ]
  },
  {
   "cell_type": "code",
   "execution_count": 32,
   "id": "1fe4351d",
   "metadata": {
    "execution": {
     "iopub.execute_input": "2025-09-01T10:20:11.606976Z",
     "iopub.status.busy": "2025-09-01T10:20:11.606579Z",
     "iopub.status.idle": "2025-09-01T10:20:11.618621Z",
     "shell.execute_reply": "2025-09-01T10:20:11.617686Z"
    },
    "papermill": {
     "duration": 0.017367,
     "end_time": "2025-09-01T10:20:11.620123",
     "exception": false,
     "start_time": "2025-09-01T10:20:11.602756",
     "status": "completed"
    },
    "tags": []
   },
   "outputs": [],
   "source": [
    "full_data = pd.concat([train_data, test_data], ignore_index=True)  #full data for further optimisation"
   ]
  },
  {
   "cell_type": "code",
   "execution_count": 33,
   "id": "9224b63b",
   "metadata": {
    "execution": {
     "iopub.execute_input": "2025-09-01T10:20:11.626603Z",
     "iopub.status.busy": "2025-09-01T10:20:11.626288Z",
     "iopub.status.idle": "2025-09-01T10:20:11.641750Z",
     "shell.execute_reply": "2025-09-01T10:20:11.640824Z"
    },
    "papermill": {
     "duration": 0.020572,
     "end_time": "2025-09-01T10:20:11.643388",
     "exception": false,
     "start_time": "2025-09-01T10:20:11.622816",
     "status": "completed"
    },
    "tags": []
   },
   "outputs": [
    {
     "name": "stdout",
     "output_type": "stream",
     "text": [
      "total number of passengers is 1309\n",
      "% of survivors: 26.13\n",
      "average age on the boat: 30\n",
      "% of people under 24 years to survive: 31.17\n"
     ]
    }
   ],
   "source": [
    "# some stats (bc I love stats)\n",
    "total_passengers = (len(full_data))\n",
    "print('total number of passengers is', total_passengers)\n",
    "\n",
    "survived = full_data.loc[full_data.Survived == 1]['Survived']\n",
    "s_rate = len(survived) / len(full_data)\n",
    "print('% of survivors:', round(s_rate*100, 2))\n",
    "\n",
    "avg_age = full_data['Age'].mean()\n",
    "print('average age on the boat:', round(avg_age))\n",
    "\n",
    "yg_survived = full_data.loc[full_data.Age <= 24]['Survived']\n",
    "yg_survived_rate = len(yg_survived) / len(full_data)\n",
    "print('% of people under 24 years to survive:', round(yg_survived_rate*100, 2))\n"
   ]
  },
  {
   "cell_type": "code",
   "execution_count": 34,
   "id": "1dbff3bb",
   "metadata": {
    "execution": {
     "iopub.execute_input": "2025-09-01T10:20:11.650731Z",
     "iopub.status.busy": "2025-09-01T10:20:11.649887Z",
     "iopub.status.idle": "2025-09-01T10:20:13.985476Z",
     "shell.execute_reply": "2025-09-01T10:20:13.984353Z"
    },
    "papermill": {
     "duration": 2.341247,
     "end_time": "2025-09-01T10:20:13.987508",
     "exception": false,
     "start_time": "2025-09-01T10:20:11.646261",
     "status": "completed"
    },
    "tags": []
   },
   "outputs": [],
   "source": [
    "#lets now train our model\n",
    "\n",
    "from sklearn.ensemble import RandomForestClassifier\n",
    "\n",
    "\n",
    "\n",
    "\n",
    "y = train_data['Survived']\n",
    "\n",
    "params = [\"Pclass\", \"Sex\", \"SibSp\", \"Parch\", \"Embarked\"] \n",
    "\n",
    "X = pd.get_dummies(train_data[params])\n",
    "X_test = pd.get_dummies(test_data[params])\n",
    "\n",
    "\n",
    "model = RandomForestClassifier(n_estimators=100, max_depth=5, random_state=1)\n",
    "model.fit(X, y)\n",
    "predictions = model.predict(X_test)\n"
   ]
  },
  {
   "cell_type": "code",
   "execution_count": null,
   "id": "f2491031",
   "metadata": {},
   "outputs": [
    {
     "data": {
      "text/plain": [
       "\"#now let's upgrade our data:\\n\\ndef remove_columns(df):\\n    df.columns = df.columns.str.strip()\\n    df = df.drop(columns = ['Name', 'Ticket', 'Cabin'])\\n    return df\\n\\ndef fill_missing_values(df):\\n    most_freq = df['Embarked'].mode()[0]\\n    df['Embarked'] = df['Embarked'].fillna(most_freq)\\n    median_age = df['Age'].median()\\n    df['Age'] = df['Age'].fillna(median_age)\\n    median_fare = df['Fare'].median()\\n    df['Fare'] = df['Fare'].fillna(median_fare)\\n    return df\\n\\n#def add_features(df):\\n\\ntrain_data=remove_columns(train_data)\\ntrain_data=fill_missing_values(train_data)\\n\\ntest_data=remove_columns(test_data)\\ntest_data=fill_missing_values(test_data)\\n\\n\""
      ]
     },
     "execution_count": 35,
     "metadata": {},
     "output_type": "execute_result"
    }
   ],
   "source": []
  },
  {
   "cell_type": "code",
   "execution_count": null,
   "id": "b9409f28",
   "metadata": {},
   "outputs": [],
   "source": []
  },
  {
   "cell_type": "code",
   "execution_count": 47,
   "id": "19f492e1",
   "metadata": {},
   "outputs": [],
   "source": [
    "#import some more things\n",
    "\n",
    "from sklearn.preprocessing import OneHotEncoder\n",
    "from sklearn.model_selection import train_test_split,GridSearchCV, StratifiedKFold,RandomizedSearchCV\n",
    "from sklearn.ensemble import RandomForestClassifier\n",
    "from sklearn.ensemble import RandomForestRegressor\n",
    "from sklearn.impute import SimpleImputer\n",
    "from sklearn.metrics import accuracy_score, mean_squared_error\n",
    "from sklearn.svm import SVC\n",
    "from sklearn.compose import ColumnTransformer\n",
    "from sklearn.pipeline import Pipeline"
   ]
  },
  {
   "cell_type": "code",
   "execution_count": 37,
   "id": "e9ca808f",
   "metadata": {},
   "outputs": [],
   "source": [
    "num = [\"Pclass\", \"SibSp\", \"Parch\", \"Age\", \"Fare\"]  \n",
    "cat = [\"Sex\", \"Embarked\"]\n",
    "\n",
    "\n",
    "preprocess = ColumnTransformer([\n",
    "    (\"num\", SimpleImputer(strategy=\"median\"), num),\n",
    "    (\"cat\", Pipeline([\n",
    "        (\"imp\", SimpleImputer(strategy=\"most_frequent\")),\n",
    "        (\"ohe\", OneHotEncoder(handle_unknown=\"ignore\"))\n",
    "    ]), cat),\n",
    "])"
   ]
  },
  {
   "cell_type": "code",
   "execution_count": 38,
   "id": "aa207efb",
   "metadata": {},
   "outputs": [
    {
     "name": "stdout",
     "output_type": "stream",
     "text": [
      "Val accuracy: 0.7985074626865671\n"
     ]
    }
   ],
   "source": [
    "model = Pipeline([\n",
    "    (\"prep\", preprocess),\n",
    "    (\"clf\", RandomForestClassifier(n_estimators=200, max_depth=6, random_state=42)),\n",
    "])\n",
    "\n",
    "X = train_data[num + cat]\n",
    "y = train_data[\"Survived\"]\n",
    "X_train, X_test, y_train, y_test = train_test_split(X, y, test_size=0.3, random_state=42, stratify=y)\n",
    "\n",
    "model.fit(X_train, y_train)\n",
    "print(\"Val accuracy:\", model.score(X_test, y_test))\n",
    "\n",
    "predictions = model.predict(test_data[num + cat])"
   ]
  },
  {
   "cell_type": "code",
   "execution_count": null,
   "id": "7f3d6e9c",
   "metadata": {},
   "outputs": [
    {
     "name": "stdout",
     "output_type": "stream",
     "text": [
      "Best Params: {'clf__class_weight': None, 'clf__max_depth': None, 'clf__max_features': None, 'clf__min_samples_leaf': 2, 'clf__min_samples_split': 13, 'clf__n_estimators': 374}\n",
      "Best CV-Presicion: 0.84509446990145\n"
     ]
    }
   ],
   "source": [
    "#now let's try to select what feature are important\n",
    "\n",
    "from sklearn.inspection import permutation_importance\n",
    "from scipy.stats import randint\n",
    "\n",
    "param_grid = {\n",
    "    \"clf__n_estimators\": randint(150, 701),           # 200..700\n",
    "    \"clf__max_depth\": [None] + list(range(3, 13)),    # None or 3..12\n",
    "    \"clf__min_samples_leaf\": randint(1, 8),           # 1..5\n",
    "    \"clf__min_samples_split\": randint(2, 14),         # 2..10\n",
    "    \"clf__max_features\": [\"sqrt\", None, 0.5, 0.8],\n",
    "    \"clf__class_weight\": [None, \"balanced\"],\n",
    "}\n",
    "\n",
    "\n",
    "\n",
    "cv = StratifiedKFold(n_splits=5, shuffle=True, random_state=42)\n",
    "\n",
    "rs = RandomizedSearchCV(\n",
    "    estimator=model,\n",
    "    param_distributions=param_grid,\n",
    "    n_iter=55,              # \n",
    "    cv=cv,\n",
    "    scoring=\"accuracy\",\n",
    "    n_jobs=-1,\n",
    "    random_state=42\n",
    ")\n",
    "\n",
    "rs.fit(X, y)\n",
    "print(\"Best Params:\", rs.best_params_)\n",
    "print(\"Best CV-Presicion:\", rs.best_score_)\n",
    "\n",
    "best_model = rs.best_estimator_   # уже дообучен на всем X,y\n",
    "\n",
    "\n"
   ]
  },
  {
   "cell_type": "code",
   "execution_count": null,
   "id": "f710eb5e",
   "metadata": {},
   "outputs": [
    {
     "data": {
      "text/plain": [
       "'\\nimport matplotlib.pyplot as plt\\n\\n# --- 0) Забираем результаты CV ---\\ncvres = pd.DataFrame(rs.cv_results_)  # если GridSearchCV: gs.cv_results_\\ncols = [\\'mean_test_score\\',\\'std_test_score\\',\\'rank_test_score\\'] +        [c for c in cvres.columns if c.startswith(\\'param_\\')]\\ndf = cvres[cols].sort_values(\\'rank_test_score\\').reset_index(drop=True)\\n\\nbest_score = rs.best_score_\\nbest_params = rs.best_params_\\nprint(\"Лучшие параметры:\", best_params)\\nprint(f\"Лучшая средняя CV-точность: {best_score:.4f}\")\\n\\n# --- 1) Топ-20 конфигураций ---\\ntopn = 20 if len(df) >= 20 else len(df)\\nplt.figure(figsize=(10,5))\\nplt.bar(range(topn), df.loc[:topn-1, \\'mean_test_score\\'])\\nplt.axhline(best_score, linestyle=\\'--\\')\\nplt.xticks(range(topn), df.loc[:topn-1, \\'rank_test_score\\'], rotation=0)\\nplt.xlabel(\\'rank_test_score (меньше = лучше)\\')\\nplt.ylabel(\\'CV accuracy\\')\\nplt.title(\\'Топ-конфигурации по CV\\')\\nplt.tight_layout()\\nplt.show()\\n\\n\\nparam_names = [c for c in df.columns if c.startswith(\\'param_\\')]\\n\\ndef scatter_param(df, pname):\\n    x = df[pname].astype(str)  # в cv_results_ часто object; приводим к строкам для стабильности\\n    y = df[\\'mean_test_score\\']\\n    # кодируем категории в числа для оси X\\n    codes, cats = pd.factorize(x)\\n    plt.figure(figsize=(8,4))\\n    plt.scatter(codes, y, alpha=0.7)\\n    plt.axhline(best_score, linestyle=\\'--\\')\\n    plt.xticks(range(len(cats)), cats, rotation=45, ha=\\'right\\')\\n    plt.xlabel(pname.replace(\\'param_\\', \\'\\'))\\n    plt.ylabel(\\'CV accuracy\\')\\n    plt.title(f\\'Поиск по {pname.replace(\"param_\",\"\")}\\')\\n    plt.tight_layout()\\n    plt.show()\\n\\nfor p in param_names:\\n    scatter_param(df, p)\\n\\n\\n\\n    \\n    '"
      ]
     },
     "execution_count": 52,
     "metadata": {},
     "output_type": "execute_result"
    }
   ],
   "source": []
  },
  {
   "cell_type": "markdown",
   "id": "fd992761",
   "metadata": {},
   "source": []
  },
  {
   "cell_type": "code",
   "execution_count": 54,
   "id": "57e9bbf9",
   "metadata": {},
   "outputs": [
    {
     "name": "stdout",
     "output_type": "stream",
     "text": [
      "          Permutation_importance  RF_importance\n",
      "Sex                     0.189686       0.440879\n",
      "Pclass                  0.095067       0.125320\n",
      "Fare                    0.019731       0.182805\n",
      "Age                     0.018834       0.190689\n",
      "Parch                   0.003363       0.013445\n",
      "Embarked               -0.001570       0.024462\n",
      "SibSp                  -0.009641       0.022399\n"
     ]
    }
   ],
   "source": [
    "#let's find what parameters are important\n",
    "\n",
    "from sklearn.base import clone\n",
    "\n",
    "X = train_data[num + cat]\n",
    "y = train_data[\"Survived\"]\n",
    "\n",
    "X_tr, X_val, y_tr, y_val = train_test_split(\n",
    "    X, y, test_size=0.25, stratify=y, random_state=42\n",
    ")\n",
    "\n",
    "# 2) Обучаем клон лучшей модели только на трейне\n",
    "model_val = clone(best_model)\n",
    "model_val.fit(X_tr, y_tr)\n",
    "\n",
    "# 3) Permutation importance по ИСХОДНЫМ признакам (длина = len(X_val.columns))\n",
    "perm = permutation_importance(\n",
    "    model_val, X_val, y_val,\n",
    "    n_repeats=20, random_state=42, n_jobs=-1, scoring=\"accuracy\"\n",
    ")\n",
    "pi_orig = pd.Series(perm.importances_mean, index=X_val.columns).sort_values(ascending=False)\n",
    "\n",
    "# 4) Встроенная важность леса (после препроцессинга) и агрегация к исходным колонкам\n",
    "feat_names = model_val.named_steps[\"prep\"].get_feature_names_out()\n",
    "rf_imp = pd.Series(model_val.named_steps[\"clf\"].feature_importances_, index=feat_names)\n",
    "\n",
    "def to_orig(n: str) -> str:\n",
    "    n = n.split(\"__\", 1)[-1]   # убираем \"num__\"/\"cat__\"\n",
    "    return n.split(\"_\", 1)[0]  # \"Sex_female\" -> \"Sex\"\n",
    "\n",
    "groups = pd.Series([to_orig(n) for n in feat_names], index=feat_names)\n",
    "rf_imp_agg = rf_imp.groupby(groups).sum()\n",
    "\n",
    "# 5) Сводная таблица: выравниваем по исходным признакам, чтобы не было рассинхрона\n",
    "summary = pd.concat(\n",
    "    [pi_orig.rename(\"Permutation_importance\"),\n",
    "     rf_imp_agg.rename(\"RF_importance\")],\n",
    "    axis=1\n",
    ").fillna(0).sort_values(\"Permutation_importance\", ascending=False)\n",
    "\n",
    "print(summary.head(10))"
   ]
  },
  {
   "cell_type": "code",
   "execution_count": 56,
   "id": "bdc6e452",
   "metadata": {
    "execution": {
     "iopub.execute_input": "2025-09-01T10:20:13.994385Z",
     "iopub.status.busy": "2025-09-01T10:20:13.993823Z",
     "iopub.status.idle": "2025-09-01T10:20:14.006643Z",
     "shell.execute_reply": "2025-09-01T10:20:14.005664Z"
    },
    "papermill": {
     "duration": 0.017864,
     "end_time": "2025-09-01T10:20:14.008137",
     "exception": false,
     "start_time": "2025-09-01T10:20:13.990273",
     "status": "completed"
    },
    "tags": []
   },
   "outputs": [
    {
     "name": "stdout",
     "output_type": "stream",
     "text": [
      "Your submission was successfully saved!\n"
     ]
    }
   ],
   "source": [
    "predictions = best_model.predict(test_data[num + cat])\n",
    "\n",
    "output = pd.DataFrame({'PassengerId': test_data.PassengerId, 'Survived': predictions})\n",
    "output.to_csv('submission.csv', index=False)\n",
    "print(\"Your submission was successfully saved!\")"
   ]
  }
 ],
 "metadata": {
  "kaggle": {
   "accelerator": "none",
   "dataSources": [
    {
     "databundleVersionId": 26502,
     "sourceId": 3136,
     "sourceType": "competition"
    }
   ],
   "dockerImageVersionId": 31089,
   "isGpuEnabled": false,
   "isInternetEnabled": false,
   "language": "python",
   "sourceType": "notebook"
  },
  "kernelspec": {
   "display_name": "base",
   "language": "python",
   "name": "python3"
  },
  "language_info": {
   "codemirror_mode": {
    "name": "ipython",
    "version": 3
   },
   "file_extension": ".py",
   "mimetype": "text/x-python",
   "name": "python",
   "nbconvert_exporter": "python",
   "pygments_lexer": "ipython3",
   "version": "3.12.7"
  },
  "papermill": {
   "default_parameters": {},
   "duration": 10.874442,
   "end_time": "2025-09-01T10:20:14.731254",
   "environment_variables": {},
   "exception": null,
   "input_path": "__notebook__.ipynb",
   "output_path": "__notebook__.ipynb",
   "parameters": {},
   "start_time": "2025-09-01T10:20:03.856812",
   "version": "2.6.0"
  }
 },
 "nbformat": 4,
 "nbformat_minor": 5
}
