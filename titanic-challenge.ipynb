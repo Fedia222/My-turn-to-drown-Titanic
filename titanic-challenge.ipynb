{
 "cells": [
  {
   "cell_type": "code",
   "execution_count": 1,
   "id": "7800e447",
   "metadata": {
    "_cell_guid": "b1076dfc-b9ad-4769-8c92-a6c4dae69d19",
    "_uuid": "8f2839f25d086af736a60e9eeb907d3b93b6e0e5",
    "execution": {
     "iopub.execute_input": "2025-09-01T10:20:09.503972Z",
     "iopub.status.busy": "2025-09-01T10:20:09.503632Z",
     "iopub.status.idle": "2025-09-01T10:20:11.515630Z",
     "shell.execute_reply": "2025-09-01T10:20:11.514406Z"
    },
    "papermill": {
     "duration": 2.017775,
     "end_time": "2025-09-01T10:20:11.517335",
     "exception": false,
     "start_time": "2025-09-01T10:20:09.499560",
     "status": "completed"
    },
    "tags": []
   },
   "outputs": [
    {
     "name": "stdout",
     "output_type": "stream",
     "text": [
      "/kaggle/input/titanic/train.csv\n",
      "/kaggle/input/titanic/test.csv\n",
      "/kaggle/input/titanic/gender_submission.csv\n"
     ]
    }
   ],
   "source": [
    "# This Python 3 environment comes with many helpful analytics libraries installed\n",
    "# It is defined by the kaggle/python Docker image: https://github.com/kaggle/docker-python\n",
    "# For example, here's several helpful packages to load\n",
    "\n",
    "import numpy as np # linear algebra\n",
    "import pandas as pd # data processing, CSV file I/O (e.g. pd.read_csv)\n",
    "\n",
    "# Input data files are available in the read-only \"../input/\" directory\n",
    "# For example, running this (by clicking run or pressing Shift+Enter) will list all files under the input directory\n",
    "\n",
    "import os\n",
    "for dirname, _, filenames in os.walk('/kaggle/input'):\n",
    "    for filename in filenames:\n",
    "        print(os.path.join(dirname, filename))\n",
    "\n",
    "# You can write up to 20GB to the current directory (/kaggle/working/) that gets preserved as output when you create a version using \"Save & Run All\" \n",
    "# You can also write temporary files to /kaggle/temp/, but they won't be saved outside of the current session"
   ]
  },
  {
   "cell_type": "code",
   "execution_count": 2,
   "id": "44936e02",
   "metadata": {
    "execution": {
     "iopub.execute_input": "2025-09-01T10:20:11.523619Z",
     "iopub.status.busy": "2025-09-01T10:20:11.523227Z",
     "iopub.status.idle": "2025-09-01T10:20:11.555762Z",
     "shell.execute_reply": "2025-09-01T10:20:11.554712Z"
    },
    "papermill": {
     "duration": 0.037958,
     "end_time": "2025-09-01T10:20:11.558053",
     "exception": false,
     "start_time": "2025-09-01T10:20:11.520095",
     "status": "completed"
    },
    "tags": []
   },
   "outputs": [
    {
     "data": {
      "text/plain": [
       "['PassengerId',\n",
       " 'Survived',\n",
       " 'Pclass',\n",
       " 'Name',\n",
       " 'Sex',\n",
       " 'Age',\n",
       " 'SibSp',\n",
       " 'Parch',\n",
       " 'Ticket',\n",
       " 'Fare',\n",
       " 'Cabin',\n",
       " 'Embarked']"
      ]
     },
     "execution_count": 2,
     "metadata": {},
     "output_type": "execute_result"
    }
   ],
   "source": [
    "train_data = pd.read_csv('/kaggle/input/titanic/train.csv')\n",
    "#train_data.head()\n",
    "\n",
    "train_data.columns\n",
    "train_data.columns.tolist()"
   ]
  },
  {
   "cell_type": "code",
   "execution_count": 3,
   "id": "88d58fc3",
   "metadata": {
    "execution": {
     "iopub.execute_input": "2025-09-01T10:20:11.564573Z",
     "iopub.status.busy": "2025-09-01T10:20:11.564283Z",
     "iopub.status.idle": "2025-09-01T10:20:11.597930Z",
     "shell.execute_reply": "2025-09-01T10:20:11.597051Z"
    },
    "papermill": {
     "duration": 0.03918,
     "end_time": "2025-09-01T10:20:11.599945",
     "exception": false,
     "start_time": "2025-09-01T10:20:11.560765",
     "status": "completed"
    },
    "tags": []
   },
   "outputs": [
    {
     "data": {
      "text/html": [
       "<div>\n",
       "<style scoped>\n",
       "    .dataframe tbody tr th:only-of-type {\n",
       "        vertical-align: middle;\n",
       "    }\n",
       "\n",
       "    .dataframe tbody tr th {\n",
       "        vertical-align: top;\n",
       "    }\n",
       "\n",
       "    .dataframe thead th {\n",
       "        text-align: right;\n",
       "    }\n",
       "</style>\n",
       "<table border=\"1\" class=\"dataframe\">\n",
       "  <thead>\n",
       "    <tr style=\"text-align: right;\">\n",
       "      <th></th>\n",
       "      <th>PassengerId</th>\n",
       "      <th>Pclass</th>\n",
       "      <th>Name</th>\n",
       "      <th>Sex</th>\n",
       "      <th>Age</th>\n",
       "      <th>SibSp</th>\n",
       "      <th>Parch</th>\n",
       "      <th>Ticket</th>\n",
       "      <th>Fare</th>\n",
       "      <th>Cabin</th>\n",
       "      <th>Embarked</th>\n",
       "    </tr>\n",
       "  </thead>\n",
       "  <tbody>\n",
       "    <tr>\n",
       "      <th>0</th>\n",
       "      <td>892</td>\n",
       "      <td>3</td>\n",
       "      <td>Kelly, Mr. James</td>\n",
       "      <td>male</td>\n",
       "      <td>34.5</td>\n",
       "      <td>0</td>\n",
       "      <td>0</td>\n",
       "      <td>330911</td>\n",
       "      <td>7.8292</td>\n",
       "      <td>NaN</td>\n",
       "      <td>Q</td>\n",
       "    </tr>\n",
       "    <tr>\n",
       "      <th>1</th>\n",
       "      <td>893</td>\n",
       "      <td>3</td>\n",
       "      <td>Wilkes, Mrs. James (Ellen Needs)</td>\n",
       "      <td>female</td>\n",
       "      <td>47.0</td>\n",
       "      <td>1</td>\n",
       "      <td>0</td>\n",
       "      <td>363272</td>\n",
       "      <td>7.0000</td>\n",
       "      <td>NaN</td>\n",
       "      <td>S</td>\n",
       "    </tr>\n",
       "    <tr>\n",
       "      <th>2</th>\n",
       "      <td>894</td>\n",
       "      <td>2</td>\n",
       "      <td>Myles, Mr. Thomas Francis</td>\n",
       "      <td>male</td>\n",
       "      <td>62.0</td>\n",
       "      <td>0</td>\n",
       "      <td>0</td>\n",
       "      <td>240276</td>\n",
       "      <td>9.6875</td>\n",
       "      <td>NaN</td>\n",
       "      <td>Q</td>\n",
       "    </tr>\n",
       "    <tr>\n",
       "      <th>3</th>\n",
       "      <td>895</td>\n",
       "      <td>3</td>\n",
       "      <td>Wirz, Mr. Albert</td>\n",
       "      <td>male</td>\n",
       "      <td>27.0</td>\n",
       "      <td>0</td>\n",
       "      <td>0</td>\n",
       "      <td>315154</td>\n",
       "      <td>8.6625</td>\n",
       "      <td>NaN</td>\n",
       "      <td>S</td>\n",
       "    </tr>\n",
       "    <tr>\n",
       "      <th>4</th>\n",
       "      <td>896</td>\n",
       "      <td>3</td>\n",
       "      <td>Hirvonen, Mrs. Alexander (Helga E Lindqvist)</td>\n",
       "      <td>female</td>\n",
       "      <td>22.0</td>\n",
       "      <td>1</td>\n",
       "      <td>1</td>\n",
       "      <td>3101298</td>\n",
       "      <td>12.2875</td>\n",
       "      <td>NaN</td>\n",
       "      <td>S</td>\n",
       "    </tr>\n",
       "  </tbody>\n",
       "</table>\n",
       "</div>"
      ],
      "text/plain": [
       "   PassengerId  Pclass                                          Name     Sex  \\\n",
       "0          892       3                              Kelly, Mr. James    male   \n",
       "1          893       3              Wilkes, Mrs. James (Ellen Needs)  female   \n",
       "2          894       2                     Myles, Mr. Thomas Francis    male   \n",
       "3          895       3                              Wirz, Mr. Albert    male   \n",
       "4          896       3  Hirvonen, Mrs. Alexander (Helga E Lindqvist)  female   \n",
       "\n",
       "    Age  SibSp  Parch   Ticket     Fare Cabin Embarked  \n",
       "0  34.5      0      0   330911   7.8292   NaN        Q  \n",
       "1  47.0      1      0   363272   7.0000   NaN        S  \n",
       "2  62.0      0      0   240276   9.6875   NaN        Q  \n",
       "3  27.0      0      0   315154   8.6625   NaN        S  \n",
       "4  22.0      1      1  3101298  12.2875   NaN        S  "
      ]
     },
     "execution_count": 3,
     "metadata": {},
     "output_type": "execute_result"
    }
   ],
   "source": [
    "test_data = pd.read_csv('/kaggle/input/titanic/test.csv')\n",
    "test_data.head()"
   ]
  },
  {
   "cell_type": "code",
   "execution_count": 4,
   "id": "1fe4351d",
   "metadata": {
    "execution": {
     "iopub.execute_input": "2025-09-01T10:20:11.606976Z",
     "iopub.status.busy": "2025-09-01T10:20:11.606579Z",
     "iopub.status.idle": "2025-09-01T10:20:11.618621Z",
     "shell.execute_reply": "2025-09-01T10:20:11.617686Z"
    },
    "papermill": {
     "duration": 0.017367,
     "end_time": "2025-09-01T10:20:11.620123",
     "exception": false,
     "start_time": "2025-09-01T10:20:11.602756",
     "status": "completed"
    },
    "tags": []
   },
   "outputs": [],
   "source": [
    "full_data = pd.concat([train_data, test_data], ignore_index=True)  #full data for further optimisation"
   ]
  },
  {
   "cell_type": "code",
   "execution_count": 5,
   "id": "9224b63b",
   "metadata": {
    "execution": {
     "iopub.execute_input": "2025-09-01T10:20:11.626603Z",
     "iopub.status.busy": "2025-09-01T10:20:11.626288Z",
     "iopub.status.idle": "2025-09-01T10:20:11.641750Z",
     "shell.execute_reply": "2025-09-01T10:20:11.640824Z"
    },
    "papermill": {
     "duration": 0.020572,
     "end_time": "2025-09-01T10:20:11.643388",
     "exception": false,
     "start_time": "2025-09-01T10:20:11.622816",
     "status": "completed"
    },
    "tags": []
   },
   "outputs": [
    {
     "name": "stdout",
     "output_type": "stream",
     "text": [
      "total number of passengers is 1309\n",
      "% of survivors: 26.13\n",
      "average age on the boat: 30\n",
      "% of people under 24 years to survive: 31.17\n"
     ]
    },
    {
     "name": "stderr",
     "output_type": "stream",
     "text": [
      "/usr/local/lib/python3.11/dist-packages/pandas/core/computation/expressions.py:73: RuntimeWarning: invalid value encountered in less_equal\n",
      "  return op(a, b)\n"
     ]
    }
   ],
   "source": [
    "# some stats (bc I love stats)\n",
    "total_passengers = (len(full_data))\n",
    "print('total number of passengers is', total_passengers)\n",
    "\n",
    "survived = full_data.loc[full_data.Survived == 1]['Survived']\n",
    "s_rate = len(survived) / len(full_data)\n",
    "print('% of survivors:', round(s_rate*100, 2))\n",
    "\n",
    "avg_age = full_data['Age'].mean()\n",
    "print('average age on the boat:', round(avg_age))\n",
    "\n",
    "yg_survived = full_data.loc[full_data.Age <= 24]['Survived']\n",
    "yg_survived_rate = len(yg_survived) / len(full_data)\n",
    "print('% of people under 24 years to survive:', round(yg_survived_rate*100, 2))\n"
   ]
  },
  {
   "cell_type": "code",
   "execution_count": 6,
   "id": "1dbff3bb",
   "metadata": {
    "execution": {
     "iopub.execute_input": "2025-09-01T10:20:11.650731Z",
     "iopub.status.busy": "2025-09-01T10:20:11.649887Z",
     "iopub.status.idle": "2025-09-01T10:20:13.985476Z",
     "shell.execute_reply": "2025-09-01T10:20:13.984353Z"
    },
    "papermill": {
     "duration": 2.341247,
     "end_time": "2025-09-01T10:20:13.987508",
     "exception": false,
     "start_time": "2025-09-01T10:20:11.646261",
     "status": "completed"
    },
    "tags": []
   },
   "outputs": [],
   "source": [
    "#lets now train our model\n",
    "\n",
    "from sklearn.ensemble import RandomForestClassifier\n",
    "\n",
    "\n",
    "\n",
    "\n",
    "y = train_data['Survived']\n",
    "\n",
    "params = [\"Pclass\", \"Sex\", \"SibSp\", \"Parch\", \"Embarked\"] \n",
    "\n",
    "X = pd.get_dummies(train_data[params])\n",
    "X_test = pd.get_dummies(test_data[params])\n",
    "\n",
    "\n",
    "model = RandomForestClassifier(n_estimators=100, max_depth=5, random_state=1)\n",
    "model.fit(X, y)\n",
    "predictions = model.predict(X_test)"
   ]
  },
  {
   "cell_type": "code",
   "execution_count": 7,
   "id": "bdc6e452",
   "metadata": {
    "execution": {
     "iopub.execute_input": "2025-09-01T10:20:13.994385Z",
     "iopub.status.busy": "2025-09-01T10:20:13.993823Z",
     "iopub.status.idle": "2025-09-01T10:20:14.006643Z",
     "shell.execute_reply": "2025-09-01T10:20:14.005664Z"
    },
    "papermill": {
     "duration": 0.017864,
     "end_time": "2025-09-01T10:20:14.008137",
     "exception": false,
     "start_time": "2025-09-01T10:20:13.990273",
     "status": "completed"
    },
    "tags": []
   },
   "outputs": [
    {
     "name": "stdout",
     "output_type": "stream",
     "text": [
      "Your submission was successfully saved!\n"
     ]
    }
   ],
   "source": [
    "output = pd.DataFrame({'PassengerId': test_data.PassengerId, 'Survived': predictions})\n",
    "output.to_csv('submission.csv', index=False)\n",
    "print(\"Your submission was successfully saved!\")"
   ]
  }
 ],
 "metadata": {
  "kaggle": {
   "accelerator": "none",
   "dataSources": [
    {
     "databundleVersionId": 26502,
     "sourceId": 3136,
     "sourceType": "competition"
    }
   ],
   "dockerImageVersionId": 31089,
   "isGpuEnabled": false,
   "isInternetEnabled": false,
   "language": "python",
   "sourceType": "notebook"
  },
  "kernelspec": {
   "display_name": "Python 3",
   "language": "python",
   "name": "python3"
  },
  "language_info": {
   "codemirror_mode": {
    "name": "ipython",
    "version": 3
   },
   "file_extension": ".py",
   "mimetype": "text/x-python",
   "name": "python",
   "nbconvert_exporter": "python",
   "pygments_lexer": "ipython3",
   "version": "3.11.13"
  },
  "papermill": {
   "default_parameters": {},
   "duration": 10.874442,
   "end_time": "2025-09-01T10:20:14.731254",
   "environment_variables": {},
   "exception": null,
   "input_path": "__notebook__.ipynb",
   "output_path": "__notebook__.ipynb",
   "parameters": {},
   "start_time": "2025-09-01T10:20:03.856812",
   "version": "2.6.0"
  }
 },
 "nbformat": 4,
 "nbformat_minor": 5
}
